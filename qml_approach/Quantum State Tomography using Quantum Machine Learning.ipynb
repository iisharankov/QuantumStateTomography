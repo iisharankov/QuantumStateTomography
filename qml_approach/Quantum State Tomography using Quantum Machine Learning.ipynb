{
 "cells": [
  {
   "cell_type": "markdown",
   "metadata": {},
   "source": [
    "## Quantum State Tomography (QST) using Quantum Machine Learning (QML) \n",
    "\n",
    "### Introduction:  \n",
    "In this notebook we reproduce the results from the paper (http://export.arxiv.org/pdf/1912.07286): Variational Quantum Circuits for Quantum State Tomography (liu et al, 2020). \n",
    "\n",
    "The paper introduces a hybrid classical-quantum framework for performing quantum state tomography. The scheme begins with a randomized target state $\\psi$, it uses a variational quantum circuit to generate an estimate state $\\phi$. The fidelity between states can be computed via the swap test (as referenced in the paper). A loss function is proposed which implicitly maximizes the fidelity between $\\phi$ and $\\psi$. This loss function is used to tune the parameters of the variational quantum circuit. Once the optimal parameters have been determined, one simply needs to use a classical simulator to simulate the quantum state associated with that particular variational circuit. \n",
    "\n",
    "Here we provide an implementation of this scheme and produce results comparable to the original paper."
   ]
  },
  {
   "cell_type": "code",
   "execution_count": 1,
   "metadata": {},
   "outputs": [],
   "source": [
    "import qml_main\n",
    "import qpu\n",
    "import copt\n",
    "import numpy as np\n",
    "import matplotlib.pyplot as plt"
   ]
  },
  {
   "cell_type": "markdown",
   "metadata": {},
   "source": [
    "### Loss vs Iterations: \n",
    "In this section we initialize our target state $\\psi$ (5 qbit state) and train our variational quantum circuit (VQC) using the ansatz described in the paper. One of the hyper parameters of this ansatz is its 'depth', we use a 'depht' value of 10. We plot the loss as a function of the number of iterations. A similar figure is provided in the paper (figure 1b).  "
   ]
  },
  {
   "cell_type": "code",
   "execution_count": 3,
   "metadata": {
    "scrolled": false
   },
   "outputs": [
    {
     "name": "stdout",
     "output_type": "stream",
     "text": [
      "Done, final loss: 0.014167171196032724\n"
     ]
    }
   ],
   "source": [
    "psi = qml_main.generate_random_psi(num_qbits=5)                        # randomly select a target state |psi> \n",
    "initial_theta = qml_main.initialize_theta(circ_depth=10, num_qbits=5)  # initialize the parameters of our variational circuit\n",
    "\n",
    "results, optimizer_data = copt.optimize_theta_scp(initial_theta, psi)  # Final result \n",
    "\n",
    "print(\"Done, final loss: {}\".format(results.fun))"
   ]
  },
  {
   "cell_type": "code",
   "execution_count": 4,
   "metadata": {},
   "outputs": [
    {
     "data": {
      "image/png": "[encoded data removed]",
      "text/plain": [
       "<Figure size 432x288 with 1 Axes>"
      ]
     },
     "metadata": {
      "needs_background": "light"
     },
     "output_type": "display_data"
    }
   ],
   "source": [
    "# Plot results\n",
    "\n",
    "loss_data = []\n",
    "fidelity_data = []\n",
    "\n",
    "for theta_vect in optimizer_data:\n",
    "    theta = np.reshape(theta_vect, (10, 5)) \n",
    "    fidelity = copt.get_fidelity(theta, psi)\n",
    "    loss = copt.get_loss(fidelity)\n",
    "    \n",
    "    loss_data.append(loss)\n",
    "    fidelity_data.append(fidelity)\n",
    "\n",
    "optimized_theta = np.reshape(optimizer_data[-1], (10, 5))\n",
    "phi = qpu.get_state(optimized_theta)    \n",
    "    \n",
    "plt.plot(range(len(loss_data)), loss_data, label='loss', marker='o', linestyle='--')\n",
    "plt.xlabel('Num Iterations')\n",
    "plt.ylabel('Loss = 1 - Sqrt(Fidelity)')\n",
    "plt.show()"
   ]
  },
  {
   "cell_type": "markdown",
   "metadata": {},
   "source": [
    "### Fidelity vs Depth: \n",
    "In this section we train multiple VQCs while varying the depth parameter. The depth of the VQC is directly proportional to the run time of the algorithm; thus it is valuable to analyze the effect of depth on accuracy (i.e how small can the depth be without comprimizing accuracy?) We plot 1 - fidelity as a function of the depth (on a logirithmic scale). A similar figure is provided in the paper (figure 1a). "
   ]
  },
  {
   "cell_type": "code",
   "execution_count": 5,
   "metadata": {},
   "outputs": [
    {
     "name": "stdout",
     "output_type": "stream",
     "text": [
      "Processing depth: 1/20\n",
      "Processing depth: 2/20\n",
      "Processing depth: 3/20\n",
      "Processing depth: 4/20\n",
      "Processing depth: 5/20\n",
      "Processing depth: 6/20\n",
      "Processing depth: 7/20\n",
      "Processing depth: 8/20\n",
      "Processing depth: 9/20\n",
      "Processing depth: 10/20\n",
      "Processing depth: 11/20\n",
      "Processing depth: 12/20\n",
      "Processing depth: 13/20\n",
      "Processing depth: 14/20\n",
      "Processing depth: 15/20\n",
      "Processing depth: 16/20\n",
      "Processing depth: 17/20\n",
      "Processing depth: 18/20\n",
      "Processing depth: 19/20\n",
      "Processing depth: 20/20\n"
     ]
    }
   ],
   "source": [
    "depth_lst = range(1, 21)\n",
    "loss_lst = []\n",
    "one_minus_fidelity_lst = []\n",
    "\n",
    "for depth in depth_lst:\n",
    "    print('Processing depth: {}/{}'.format(depth, 20))\n",
    "    initial_theta = qml_main.initialize_theta(circ_depth=depth, num_qbits=5)\n",
    "    results, optimizer_data = copt.optimize_theta_scp(initial_theta, psi)\n",
    "    \n",
    "    theta = np.reshape(optimizer_data[-1], (depth, 5)) \n",
    "    fidelity = copt.get_fidelity(theta, psi)\n",
    "    loss = copt.get_loss(fidelity)\n",
    "    \n",
    "    loss_lst.append(loss)\n",
    "    one_minus_fidelity_lst.append(1 - fidelity)\n"
   ]
  },
  {
   "cell_type": "code",
   "execution_count": 11,
   "metadata": {
    "scrolled": true
   },
   "outputs": [
    {
     "data": {
      "image/png": "[encoded data removed]",
      "text/plain": [
       "<Figure size 432x288 with 1 Axes>"
      ]
     },
     "metadata": {
      "needs_background": "light"
     },
     "output_type": "display_data"
    }
   ],
   "source": [
    "# Plot results\n",
    "\n",
    "plt.plot(depth_lst[:14], one_minus_fidelity_lst[:14], marker='o', linestyle='--')  # between 15-20 depth we are over training \n",
    "plt.xlabel('Depth')                                                                # the model so I think its safe to exclude\n",
    "plt.ylabel('1 - Fidelity')\n",
    "plt.yscale('log')\n",
    "plt.show()   "
   ]
  }
 ],
 "metadata": {
  "kernelspec": {
   "display_name": "Python 3",
   "language": "python",
   "name": "python3"
  },
  "language_info": {
   "codemirror_mode": {
    "name": "ipython",
    "version": 3
   },
   "file_extension": ".py",
   "mimetype": "text/x-python",
   "name": "python",
   "nbconvert_exporter": "python",
   "pygments_lexer": "ipython3",
   "version": "3.7.4"
  }
 },
 "nbformat": 4,
 "nbformat_minor": 2
}
